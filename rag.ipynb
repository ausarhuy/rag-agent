{
 "cells": [
  {
   "cell_type": "code",
   "id": "572fbdd007709a38",
   "metadata": {
    "ExecuteTime": {
     "end_time": "2024-06-27T09:48:54.599442Z",
     "start_time": "2024-06-27T09:48:38.108159Z"
    }
   },
   "source": [
    "from src.ingestion import Ingestion\n",
    "import glob\n",
    "\n",
    "ingestion = Ingestion(model_name=\"dangvantuan/vietnamese-embedding\")\n",
    "\n",
    "# for file in glob.glob(\"data/v1/docs/*.pdf\"):\n",
    "#     ingestion.ingest_pdf(\n",
    "#         file=file\n",
    "#     )\n",
    "\n",
    "ingestion.ingest_json(\"extracted_data.json\")"
   ],
   "outputs": [
    {
     "name": "stderr",
     "output_type": "stream",
     "text": [
      "/home/hgiahuy/miniconda3/envs/rag-agent/lib/python3.10/site-packages/deeplake/util/check_latest_version.py:32: UserWarning: A newer version of deeplake (3.9.11) is available. It's recommended that you update to the latest version using `pip install -U deeplake`.\n",
      "  warnings.warn(\n",
      "/home/hgiahuy/miniconda3/envs/rag-agent/lib/python3.10/site-packages/sentence_transformers/cross_encoder/CrossEncoder.py:11: TqdmExperimentalWarning: Using `tqdm.autonotebook.tqdm` in notebook mode. Use `tqdm.tqdm` instead to force console mode (e.g. in jupyter console)\n",
      "  from tqdm.autonotebook import tqdm, trange\n",
      "/home/hgiahuy/miniconda3/envs/rag-agent/lib/python3.10/site-packages/huggingface_hub/file_download.py:1132: FutureWarning: `resume_download` is deprecated and will be removed in version 1.0.0. Downloads always resume when possible. If you want to force a new download, use `force_download=True`.\n",
      "  warnings.warn(\n",
      "\r"
     ]
    },
    {
     "name": "stdout",
     "output_type": "stream",
     "text": [
      "Attempting to ingest 105 embedding vectors from extracted_data.json\n"
     ]
    },
    {
     "name": "stderr",
     "output_type": "stream",
     "text": [
      "Creating 105 embeddings in 1 batches of size 105:: 100%|██████████| 1/1 [00:07<00:00,  7.78s/it]\n"
     ]
    }
   ],
   "execution_count": 1
  },
  {
   "cell_type": "code",
   "id": "1a09a8ec35abebb4",
   "metadata": {
    "ExecuteTime": {
     "end_time": "2024-06-27T09:49:08.571964Z",
     "start_time": "2024-06-27T09:48:59.845114Z"
    }
   },
   "source": [
    "from src.qachain import QAChain\n",
    "\n",
    "qna = QAChain()"
   ],
   "outputs": [
    {
     "name": "stderr",
     "output_type": "stream",
     "text": [
      "/home/hgiahuy/miniconda3/envs/rag-agent/lib/python3.10/site-packages/huggingface_hub/file_download.py:1132: FutureWarning: `resume_download` is deprecated and will be removed in version 1.0.0. Downloads always resume when possible. If you want to force a new download, use `force_download=True`.\n",
      "  warnings.warn(\n",
      "\r"
     ]
    }
   ],
   "execution_count": 2
  },
  {
   "cell_type": "code",
   "id": "4ebc550dcf8b018e",
   "metadata": {
    "ExecuteTime": {
     "end_time": "2024-06-27T09:49:32.638791Z",
     "start_time": "2024-06-27T09:49:26.551195Z"
    }
   },
   "source": [
    "query = \"Xếp loại xuất sắc cần bao nhiêu điểm?\"\n",
    "results = qna.ask_question(\n",
    "    query=query\n",
    ")\n",
    "print(\"query:\")\n",
    "print(query)\n",
    "print(\"answer:\")\n",
    "print(results)\n",
    "print('='*10)"
   ],
   "outputs": [
    {
     "name": "stdout",
     "output_type": "stream",
     "text": [
      "Exception raised. Generating response.\n",
      "Deep Lake Dataset in database/text_vectorstore already exists, loading from the storage\n"
     ]
    },
    {
     "name": "stderr",
     "output_type": "stream",
     "text": [
      "Creating 1 embeddings in 1 batches of size 1:: 100%|██████████| 1/1 [00:00<00:00,  2.46it/s]"
     ]
    },
    {
     "name": "stdout",
     "output_type": "stream",
     "text": [
      "query:\n",
      "Xếp loại xuất sắc cần bao nhiêu điểm?\n",
      "answer:\n",
      "Thông tin về xếp loại xuất sắc không được cung cấp trong đoạn văn bản. \n",
      "\n",
      "==========\n"
     ]
    },
    {
     "name": "stderr",
     "output_type": "stream",
     "text": [
      "\n"
     ]
    }
   ],
   "execution_count": 5
  },
  {
   "metadata": {},
   "cell_type": "code",
   "outputs": [],
   "execution_count": 3,
   "source": [
    "# queries = [\"How has Amazon's total net sales changed over time?\", \n",
    "#          \"What are the major factors contributing to the change in Apple's gross margin in the most recent 10-Q compared to the previous quarters?\",\n",
    "#          \"Has Microsoft partaken in any substantial stock buyback programs in the reported quarters, and what are the economic consequences of these actions?\",\n",
    "#          \"What effective tax rate has Microsoft reported in these quarters and how does it differ from period to period?\",\n",
    "#          \"What are the key changes in NVIDIA's liquidity status or cash flows as disclosed in these quarterly reports?\"]\n",
    "\n",
    "queries = [\"Sinh viên được xin nghỉ học tạm thời và bảo lưu kết quả đã học trong các trường hợp nào?\",\n",
    "           \"Làm sao để huỷ nhóm học?\"]"
   ],
   "id": "50e1462e0106e82d"
  },
  {
   "metadata": {},
   "cell_type": "code",
   "outputs": [
    {
     "name": "stdout",
     "output_type": "stream",
     "text": [
      "Exception raised. Generating response.\n",
      "Deep Lake Dataset in database/text_vectorstore already exists, loading from the storage\n"
     ]
    },
    {
     "name": "stderr",
     "output_type": "stream",
     "text": [
      "Creating 1 embeddings in 1 batches of size 1:: 100%|██████████| 1/1 [00:00<00:00,  2.27it/s]\n"
     ]
    },
    {
     "name": "stdout",
     "output_type": "stream",
     "text": [
      "query:\n",
      "Sinh viên được xin nghỉ học tạm thời và bảo lưu kết quả đã học trong các trường hợp nào?\n",
      "answer:\n",
      "Thông tin về việc sinh viên được xin nghỉ học tạm thời và bảo lưu kết quả đã học không được cung cấp trong đoạn văn bản bạn đưa ra. \n",
      "\n",
      "==========\n",
      "Exception raised. Generating response.\n",
      "Deep Lake Dataset in database/text_vectorstore already exists, loading from the storage\n"
     ]
    },
    {
     "name": "stderr",
     "output_type": "stream",
     "text": [
      "Creating 1 embeddings in 1 batches of size 1:: 100%|██████████| 1/1 [00:00<00:00,  2.09it/s]"
     ]
    },
    {
     "name": "stdout",
     "output_type": "stream",
     "text": [
      "query:\n",
      "Làm sao để huỷ nhóm học?\n",
      "answer:\n",
      "Theo quy định của trường, những nhóm môn học có số lượng sinh viên đăng ký ít hơn số lượng tối thiểu để xem xét mở nhóm môn học theo quy định sẽ bị hủy. \n",
      "\n",
      "==========\n"
     ]
    },
    {
     "name": "stderr",
     "output_type": "stream",
     "text": [
      "\n"
     ]
    }
   ],
   "execution_count": 4,
   "source": [
    "for query in queries:\n",
    "    results = qna.ask_question(\n",
    "        query=query\n",
    "    )\n",
    "    print(\"query:\")\n",
    "    print(query)\n",
    "    print(\"answer:\")\n",
    "    print(results)\n",
    "    print('='*10)"
   ],
   "id": "fbe953e7b9628e02"
  },
  {
   "metadata": {},
   "cell_type": "code",
   "outputs": [],
   "execution_count": null,
   "source": "",
   "id": "a72024d7833c3fc6"
  }
 ],
 "metadata": {
  "kernelspec": {
   "display_name": "Python 3",
   "language": "python",
   "name": "python3"
  },
  "language_info": {
   "codemirror_mode": {
    "name": "ipython",
    "version": 3
   },
   "file_extension": ".py",
   "mimetype": "text/x-python",
   "name": "python",
   "nbconvert_exporter": "python",
   "pygments_lexer": "ipython3",
   "version": "3.10.14"
  }
 },
 "nbformat": 4,
 "nbformat_minor": 5
}
